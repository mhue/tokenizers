{
 "cells": [
  {
   "cell_type": "markdown",
   "id": "472d5b88-307a-4b85-9b3d-4e3d250a2f26",
   "metadata": {},
   "source": [
    "# Byte-pair encoding algorithm\n",
    "\n",
    "Source: [Andrej Karpathy's video](https://www.youtube.com/watch?v=zduSFxRajkE) named \"Let's build the GPT Tokenizer\"\n",
    "\n",
    "Here is my attempt at following the coding session."
   ]
  },
  {
   "cell_type": "code",
   "execution_count": 1,
   "id": "c45310fa-48fb-458b-8ffc-a1c9df07a856",
   "metadata": {
    "tags": []
   },
   "outputs": [],
   "source": [
    "from collections import defaultdict, Counter"
   ]
  },
  {
   "cell_type": "markdown",
   "id": "d2022994-df9c-4eb4-b468-a488835579c6",
   "metadata": {},
   "source": [
    "The following text is copy-pasted from [this blog article about Unicode](https://www.reedbeta.com/blog/programmers-intro-to-unicode/)"
   ]
  },
  {
   "cell_type": "code",
   "execution_count": 2,
   "id": "9cae1caa-a89e-4749-9f7b-74793c598596",
   "metadata": {
    "tags": []
   },
   "outputs": [],
   "source": [
    "s = \"Ｕｎｉｃｏｄｅ! 🅤🅝🅘🅒🅞🅓🅔‽ 🇺‌🇳‌🇮‌🇨‌🇴‌🇩‌🇪! 😄 The very name strikes fear and awe into the hearts of programmers worldwide. We all know we ought to “support Unicode” in our software (whatever that means—like using wchar_t for all the strings, right?). But Unicode can be abstruse, and diving into the thousand-page Unicode Standard plus its dozens of supplementary annexes, reports, and notes can be more than a little intimidating. I don’t blame programmers for still finding the whole thing mysterious, even 30 years after Unicode’s inception.\""
   ]
  },
  {
   "cell_type": "code",
   "execution_count": 3,
   "id": "e9869b33-ca55-410c-8c89-745ba3357872",
   "metadata": {
    "jupyter": {
     "source_hidden": true
    },
    "tags": []
   },
   "outputs": [],
   "source": [
    "s = '''\n",
    "Ｕｎｉｃｏｄｅ! 🅤🅝🅘🅒🅞🅓🅔‽ 🇺‌🇳‌🇮‌🇨‌🇴‌🇩‌🇪! 😄 The very name strikes fear and awe into the hearts of programmers worldwide. We all know we ought to “support Unicode” in our software (whatever that means—like using wchar_t for all the strings, right?). But Unicode can be abstruse, and diving into the thousand-page Unicode Standard plus its dozens of supplementary annexes, reports, and notes can be more than a little intimidating. I don’t blame programmers for still finding the whole thing mysterious, even 30 years after Unicode’s inception.\n",
    "\n",
    "A few months ago, I got interested in Unicode and decided to spend some time learning more about it in detail. In this article, I’ll give an introduction to it from a programmer’s point of view.\n",
    "\n",
    "I’m going to focus on the character set and what’s involved in working with strings and files of Unicode text. However, in this article I’m not going to talk about fonts, text layout/shaping/rendering, or localization in detail—those are separate issues, beyond my scope (and knowledge) here.\n",
    "\n",
    "    Diversity and Inherent Complexity\n",
    "    The Unicode Codespace\n",
    "        Codespace Allocation\n",
    "        Scripts\n",
    "        Usage Frequency\n",
    "    Encodings\n",
    "        UTF-8\n",
    "        UTF-16\n",
    "    Combining Marks\n",
    "        Canonical Equivalence\n",
    "        Normalization Forms\n",
    "        Grapheme Clusters\n",
    "    And More…\n",
    "\n",
    "Diversity and Inherent Complexity\n",
    "\n",
    "As soon as you start to study Unicode, it becomes clear that it represents a large jump in complexity over character sets like ASCII that you may be more familiar with. It’s not just that Unicode contains a much larger number of characters, although that’s part of it. Unicode also has a great deal of internal structure, features, and special cases, making it much more than what one might expect a mere “character set” to be. We’ll see some of that later in this article.\n",
    "\n",
    "When confronting all this complexity, especially as an engineer, it’s hard not to find oneself asking, “Why do we need all this? Is this really necessary? Couldn’t it be simplified?”\n",
    "\n",
    "However, Unicode aims to faithfully represent the entire world’s writing systems. The Unicode Consortium’s stated goal is “enabling people around the world to use computers in any language”. And as you might imagine, the diversity of written languages is immense! To date, Unicode supports 135 different scripts, covering some 1100 languages, and there’s still a long tail of over 100 unsupported scripts, both modern and historical, which people are still working to add.\n",
    "\n",
    "Given this enormous diversity, it’s inevitable that representing it is a complicated project. Unicode embraces that diversity, and accepts the complexity inherent in its mission to include all human writing systems. It doesn’t make a lot of trade-offs in the name of simplification, and it makes exceptions to its own rules where necessary to further its mission.\n",
    "\n",
    "Moreover, Unicode is committed not just to supporting texts in any single language, but also to letting multiple languages coexist within one text—which introduces even more complexity.\n",
    "\n",
    "Most programming languages have libraries available to handle the gory low-level details of text manipulation, but as a programmer, you’ll still need to know about certain Unicode features in order to know when and how to apply them. It may take some time to wrap your head around it all, but don’t be discouraged—think about the billions of people for whom your software will be more accessible through supporting text in their language. Embrace the complexity!\n",
    "The Unicode Codespace\n",
    "\n",
    "Let’s start with some general orientation. The basic elements of Unicode—its “characters”, although that term isn’t quite right—are called code points. Code points are identified by number, customarily written in hexadecimal with the prefix “U+”, such as U+0041 “A” latin capital letter a or U+03B8 “θ” greek small letter theta. Each code point also has a short name, and quite a few other properties, specified in the Unicode Character Database.\n",
    "\n",
    "The set of all possible code points is called the codespace. The Unicode codespace consists of 1,114,112 code points. However, only 128,237 of them—about 12% of the codespace—are actually assigned, to date. There’s plenty of room for growth! Unicode also reserves an additional 137,468 code points as “private use” areas, which have no standardized meaning and are available for individual applications to define for their own purposes.\n",
    "Codespace Allocation\n",
    "\n",
    "To get a feel for how the codespace is laid out, it’s helpful to visualize it. Below is a map of the entire codespace, with one pixel per code point. It’s arranged in tiles for visual coherence; each small square is 16×16 = 256 code points, and each large square is a “plane” of 65,536 code points. There are 17 planes altogether.\n",
    "\n",
    "Map of the Unicode codespace (click to zoom)\n",
    "\n",
    "White represents unassigned space. Blue is assigned code points, green is private-use areas, and the small red area is surrogates (more about those later). As you can see, the assigned code points are distributed somewhat sparsely, but concentrated in the first three planes.\n",
    "\n",
    "Plane 0 is also known as the “Basic Multilingual Plane”, or BMP. The BMP contains essentially all the characters needed for modern text in any script, including Latin, Cyrillic, Greek, Han (Chinese), Japanese, Korean, Arabic, Hebrew, Devanagari (Indian), and many more.\n",
    "\n",
    "(In the past, the codespace was just the BMP and no more—Unicode was originally conceived as a straightforward 16-bit encoding, with only 65,536 code points. It was expanded to its current size in 1996. However, the vast majority of code points in modern text belong to the BMP.)\n",
    "\n",
    "Plane 1 contains historical scripts, such as Sumerian cuneiform and Egyptian hieroglyphs, as well as emoji and various other symbols. Plane 2 contains a large block of less-common and historical Han characters. The remaining planes are empty, except for a small number of rarely-used formatting characters in Plane 14; planes 15–16 are reserved entirely for private use.\n",
    "Scripts\n",
    "\n",
    "Let’s zoom in on the first three planes, since that’s where the action is:\n",
    "\n",
    "Map of scripts in Unicode planes 0–2 (click to zoom)\n",
    "\n",
    "This map color-codes the 135 different scripts in Unicode. You can see how Han () and Korean () take up most of the range of the BMP (the left large square). By contrast, all of the European, Middle Eastern, and South Asian scripts fit into the first row of the BMP in this diagram.\n",
    "\n",
    "Many areas of the codespace are adapted or copied from earlier encodings. For example, the first 128 code points of Unicode are just a copy of ASCII. This has clear benefits for compatibility—it’s easy to losslessly convert texts from smaller encodings into Unicode (and the other direction too, as long as no characters outside the smaller encoding are used).\n",
    "Usage Frequency\n",
    "\n",
    "One more interesting way to visualize the codespace is to look at the distribution of usage—in other words, how often each code point is actually used in real-world texts. Below is a heat map of planes 0–2 based on a large sample of text from Wikipedia and Twitter (all languages). Frequency increases from black (never seen) through red and yellow to white.\n",
    "\n",
    "Heat map of code point usage frequency in Unicode planes 0–2 (click to zoom)\n",
    "\n",
    "You can see that the vast majority of this text sample lies in the BMP, with only scattered usage of code points from planes 1–2. The biggest exception is emoji, which show up here as the several bright squares in the bottom row of plane 1.\n",
    "Encodings\n",
    "\n",
    "We’ve seen that Unicode code points are abstractly identified by their index in the codespace, ranging from U+0000 to U+10FFFF. But how do code points get represented as bytes, in memory or in a file?\n",
    "\n",
    "The most convenient, computer-friendliest (and programmer-friendliest) thing to do would be to just store the code point index as a 32-bit integer. This works, but it consumes 4 bytes per code point, which is sort of a lot. Using 32-bit ints for Unicode will cost you a bunch of extra storage, memory, and performance in bandwidth-bound scenarios, if you work with a lot of text.\n",
    "\n",
    "Consequently, there are several more-compact encodings for Unicode. The 32-bit integer encoding is officially called UTF-32 (UTF = “Unicode Transformation Format”), but it’s rarely used for storage. At most, it comes up sometimes as a temporary internal representation, for examining or operating on the code points in a string.\n",
    "\n",
    "Much more commonly, you’ll see Unicode text encoded as either UTF-8 or UTF-16. These are both variable-length encodings, made up of 8-bit or 16-bit units, respectively. In these schemes, code points with smaller index values take up fewer bytes, which saves a lot of memory for typical texts. The trade-off is that processing UTF-8/16 texts is more programmatically involved, and likely slower.\n",
    "UTF-8\n",
    "\n",
    "In UTF-8, each code point is stored using 1 to 4 bytes, based on its index value.\n",
    "\n",
    "UTF-8 uses a system of binary prefixes, in which the high bits of each byte mark whether it’s a single byte, the beginning of a multi-byte sequence, or a continuation byte; the remaining bits, concatenated, give the code point index. This table shows how it works:\n",
    "UTF-8 (binary) \tCode point (binary) \tRange\n",
    "0xxxxxxx \txxxxxxx \tU+0000–U+007F\n",
    "110xxxxx 10yyyyyy \txxxxxyyyyyy \tU+0080–U+07FF\n",
    "1110xxxx 10yyyyyy 10zzzzzz \txxxxyyyyyyzzzzzz \tU+0800–U+FFFF\n",
    "11110xxx 10yyyyyy 10zzzzzz 10wwwwww \txxxyyyyyyzzzzzzwwwwww \tU+10000–U+10FFFF\n",
    "\n",
    "A handy property of UTF-8 is that code points below 128 (ASCII characters) are encoded as single bytes, and all non-ASCII code points are encoded using sequences of bytes 128–255. This has a couple of nice consequences. First, any strings or files out there that are already in ASCII can also be interpreted as UTF-8 without any conversion. Second, lots of widely-used string programming idioms—such as null termination, or delimiters (newlines, tabs, commas, slashes, etc.)—will just work on UTF-8 strings. ASCII bytes never occur inside the encoding of non-ASCII code points, so searching byte-wise for a null terminator or a delimiter will do the right thing.\n",
    "\n",
    "Thanks to this convenience, it’s relatively simple to extend legacy ASCII programs and APIs to handle UTF-8 strings. UTF-8 is very widely used in the Unix/Linux and Web worlds, and many programmers argue UTF-8 should be the default encoding everywhere.\n",
    "\n",
    "However, UTF-8 isn’t a drop-in replacement for ASCII strings in all respects. For instance, code that iterates over the “characters” in a string will need to decode UTF-8 and iterate over code points (or maybe grapheme clusters—more about those later), not bytes. When you measure the “length” of a string, you’ll need to think about whether you want the length in bytes, the length in code points, the width of the text when rendered, or something else.\n",
    "UTF-16\n",
    "\n",
    "The other encoding that you’re likely to encounter is UTF-16. It uses 16-bit words, with each code point stored as either 1 or 2 words.\n",
    "\n",
    "Like UTF-8, we can express the UTF-16 encoding rules in the form of binary prefixes:\n",
    "UTF-16 (binary) \tCode point (binary) \tRange\n",
    "xxxxxxxxxxxxxxxx \txxxxxxxxxxxxxxxx \tU+0000–U+FFFF\n",
    "110110xxxxxxxxxx 110111yyyyyyyyyy \txxxxxxxxxxyyyyyyyyyy + 0x10000 \tU+10000–U+10FFFF\n",
    "\n",
    "A more common way that people talk about UTF-16 encoding, though, is in terms of code points called “surrogates”. All the code points in the range U+D800–U+DFFF—or in other words, the code points that match the binary prefixes 110110 and 110111 in the table above—are reserved specifically for UTF-16 encoding, and don’t represent any valid characters on their own. They’re only meant to occur in the 2-word encoding pattern above, which is called a “surrogate pair”. Surrogate code points are illegal in any other context! They’re not allowed in UTF-8 or UTF-32 at all.\n",
    "\n",
    "Historically, UTF-16 is a descendant of the original, pre-1996 versions of Unicode, in which there were only 65,536 code points. The original intention was that there would be no different “encodings”; Unicode was supposed to be a straightforward 16-bit character set. Later, the codespace was expanded to make room for a long tail of less-common (but still important) Han characters, which the Unicode designers didn’t originally plan for. Surrogates were then introduced, as—to put it bluntly—a kludge, allowing 16-bit encodings to access the new code points.\n",
    "\n",
    "Today, Javascript uses UTF-16 as its standard string representation: if you ask for the length of a string, or iterate over it, etc., the result will be in UTF-16 words, with any code points outside the BMP expressed as surrogate pairs. UTF-16 is also used by the Microsoft Win32 APIs; though Win32 supports either 8-bit or 16-bit strings, the 8-bit version unaccountably still doesn’t support UTF-8—only legacy code-page encodings, like ANSI. This leaves UTF-16 as the only way to get proper Unicode support in Windows. (Update: in Win10 version 1903, they finally added UTF-8 support to the 8-bit APIs! 😊)\n",
    "\n",
    "By the way, UTF-16’s words can be stored either little-endian or big-endian. Unicode has no opinion on that issue, though it does encourage the convention of putting U+FEFF zero width no-break space at the top of a UTF-16 file as a byte-order mark, to disambiguate the endianness. (If the file doesn’t match the system’s endianness, the BOM will be decoded as U+FFFE, which isn’t a valid code point.)\n",
    "Combining Marks\n",
    "\n",
    "In the story so far, we’ve been focusing on code points. But in Unicode, a “character” can be more complicated than just an individual code point!\n",
    "\n",
    "Unicode includes a system for dynamically composing characters, by combining multiple code points together. This is used in various ways to gain flexibility without causing a huge combinatorial explosion in the number of code points.\n",
    "\n",
    "In European languages, for example, this shows up in the application of diacritics to letters. Unicode supports a wide range of diacritics, including acute and grave accents, umlauts, cedillas, and many more. All these diacritics can be applied to any letter of any alphabet—and in fact, multiple diacritics can be used on a single letter.\n",
    "\n",
    "If Unicode tried to assign a distinct code point to every possible combination of letter and diacritics, things would rapidly get out of hand. Instead, the dynamic composition system enables you to construct the character you want, by starting with a base code point (the letter) and appending additional code points, called “combining marks”, to specify the diacritics. When a text renderer sees a sequence like this in a string, it automatically stacks the diacritics over or under the base letter to create a composed character.\n",
    "\n",
    "For example, the accented character “Á” can be expressed as a string of two code points: U+0041 “A” latin capital letter a plus U+0301 “◌́” combining acute accent. This string automatically gets rendered as a single character: “Á”.\n",
    "\n",
    "Now, Unicode does also include many “precomposed” code points, each representing a letter with some combination of diacritics already applied, such as U+00C1 “Á” latin capital letter a with acute or U+1EC7 “ệ” latin small letter e with circumflex and dot below. I suspect these are mostly inherited from older encodings that were assimilated into Unicode, and kept around for compatibility. In practice, there are precomposed code points for most of the common letter-with-diacritic combinations in European-script languages, so they don’t use dynamic composition that much in typical text.\n",
    "\n",
    "Still, the system of combining marks does allow for an arbitrary number of diacritics to be stacked on any base character. The reductio-ad-absurdum of this is Zalgo text, which works by ͖͟ͅr͞aṋ̫̠̖͈̗d͖̻̹óm̪͙͕̗̝ļ͇̰͓̳̫ý͓̥̟͍ ̕s̫t̫̱͕̗̰̼̘͜a̼̩͖͇̠͈̣͝c̙͍k̖̱̹͍͘i̢n̨̺̝͇͇̟͙ģ̫̮͎̻̟ͅ ̕n̼̺͈͞u̮͙m̺̭̟̗͞e̞͓̰̤͓̫r̵o̖ṷs҉̪͍̭̬̝̤ ̮͉̝̞̗̟͠d̴̟̜̱͕͚i͇̫̼̯̭̜͡ḁ͙̻̼c̲̲̹r̨̠̹̣̰̦i̱t̤̻̤͍͙̘̕i̵̜̭̤̱͎c̵s ͘o̱̲͈̙͖͇̲͢n͘ ̜͈e̬̲̠̩ac͕̺̠͉h̷̪ ̺̣͖̱ḻ̫̬̝̹ḙ̙̺͙̭͓̲t̞̞͇̲͉͍t̷͔̪͉̲̻̠͙e̦̻͈͉͇r͇̭̭̬͖,̖́ ̜͙͓̣̭s̘̘͈o̱̰̤̲ͅ ̛̬̜̙t̼̦͕̱̹͕̥h̳̲͈͝ͅa̦t̻̲ ̻̟̭̦̖t̛̰̩h̠͕̳̝̫͕e͈̤̘͖̞͘y҉̝͙ ̷͉͔̰̠o̞̰v͈͈̳̘͜er̶f̰͈͔ḻ͕̘̫̺̲o̲̭͙͠ͅw̱̳̺ ͜t̸h͇̭͕̳͍e̖̯̟̠ ͍̞̜͔̩̪͜ļ͎̪̲͚i̝̲̹̙̩̹n̨̦̩̖ḙ̼̲̼͢ͅ ̬͝s̼͚̘̞͝p͙̘̻a̙c҉͉̜̤͈̯̖i̥͡n̦̠̱͟g̸̗̻̦̭̮̟ͅ ̳̪̠͖̳̯̕a̫͜n͝d͡ ̣̦̙ͅc̪̗r̴͙̮̦̹̳e͇͚̞͔̹̫͟a̙̺̙ț͔͎̘̹ͅe̥̩͍ a͖̪̜̮͙̹n̢͉̝ ͇͉͓̦̼́a̳͖̪̤̱p̖͔͔̟͇͎͠p̱͍̺ę̲͎͈̰̲̤̫a̯͜r̨̮̫̣̘a̩̯͖n̹̦̰͎̣̞̞c̨̦̱͔͎͍͖e̬͓͘ ̤̰̩͙̤̬͙o̵̼̻̬̻͇̮̪f̴ ̡̙̭͓͖̪̤“̸͙̠̼c̳̗͜o͏̼͙͔̮r̞̫̺̞̥̬ru̺̻̯͉̭̻̯p̰̥͓̣̫̙̤͢t̳͍̳̖ͅi̶͈̝͙̼̙̹o̡͔n̙̺̹̖̩͝ͅ”̨̗͖͚̩.̯͓\n",
    "\n",
    "A few other places where dynamic character composition shows up in Unicode:\n",
    "\n",
    "    Vowel-pointing notation in Arabic and Hebrew. In these languages, words are normally spelled with some of their vowels left out. They then have diacritic notation to indicate the vowels (used in dictionaries, language-teaching materials, children’s books, and such). These diacritics are expressed with combining marks.\n",
    "    A Hebrew example, with niqqud:\tאֶת דַלְתִּי הֵזִיז הֵנִיעַ, קֶטֶב לִשְׁכַּתִּי יָשׁוֹד\n",
    "    Normal writing (no niqqud):\tאת דלתי הזיז הניע, קטב לשכתי ישוד\n",
    "\n",
    "    Devanagari, the script used to write Hindi, Sanskrit, and many other South Asian languages, expresses certain vowels as combining marks attached to consonant letters. For example, “ह” + “​ि” = “हि” (“h” + “i” = “hi”).\n",
    "\n",
    "    Korean characters stand for syllables, but they are composed of letters called jamo that stand for the vowels and consonants in the syllable. While there are code points for precomposed Korean syllables, it’s also possible to dynamically compose them by concatenating their jamo. For example, “ᄒ” + “ᅡ” + “ᆫ” = “한” (“h” + “a” + “n” = “han”).\n",
    "\n",
    "Canonical Equivalence\n",
    "\n",
    "In Unicode, precomposed characters exist alongside the dynamic composition system. A consequence of this is that there are multiple ways to express “the same” string—different sequences of code points that result in the same user-perceived characters. For example, as we saw earlier, we can express the character “Á” either as the single code point U+00C1, or as the string of two code points U+0041 U+0301.\n",
    "\n",
    "Another source of ambiguity is the ordering of multiple diacritics in a single character. Diacritic order matters visually when two diacritics apply to the same side of the base character, e.g. both above: “ǡ” (dot, then macron) is different from “ā̇” (macron, then dot). However, when diacritics apply to different sides of the character, e.g. one above and one below, then the order doesn’t affect rendering. Moreover, a character with multiple diacritics might have one of the diacritics precomposed and others expressed as combining marks.\n",
    "\n",
    "For example, the Vietnamese letter “ệ” can be expressed in five different ways:\n",
    "\n",
    "    Fully precomposed: U+1EC7 “ệ”\n",
    "    Partially precomposed: U+1EB9 “ẹ” + U+0302 “◌̂”\n",
    "    Partially precomposed: U+00EA “ê” + U+0323 “◌̣”\n",
    "    Fully decomposed: U+0065 “e” + U+0323 “◌̣” + U+0302 “◌̂”\n",
    "    Fully decomposed: U+0065 “e” + U+0302 “◌̂” + U+0323 “◌̣”\n",
    "\n",
    "Unicode refers to set of strings like this as “canonically equivalent”. Canonically equivalent strings are supposed to be treated as identical for purposes of searching, sorting, rendering, text selection, and so on. This has implications for how you implement operations on text. For example, if an app has a “find in file” operation and the user searches for “ệ”, it should, by default, find occurrences of any of the five versions of “ệ” above!\n",
    "Normalization Forms\n",
    "\n",
    "To address the problem of “how to handle canonically equivalent strings”, Unicode defines several normalization forms: ways of converting strings into a canonical form so that they can be compared code-point-by-code-point (or byte-by-byte).\n",
    "\n",
    "The “NFD” normalization form fully decomposes every character down to its component base and combining marks, taking apart any precomposed code points in the string. It also sorts the combining marks in each character according to their rendered position, so e.g. diacritics that go below the character come before the ones that go above the character. (It doesn’t reorder diacritics in the same rendered position, since their order matters visually, as previously mentioned.)\n",
    "\n",
    "The “NFC” form, conversely, puts things back together into precomposed code points as much as possible. If an unusual combination of diacritics is called for, there may not be any precomposed code point for it, in which case NFC still precomposes what it can and leaves any remaining combining marks in place (again ordered by rendered position, as in NFD).\n",
    "\n",
    "There are also forms called NFKD and NFKC. The “K” here refers to compatibility decompositions, which cover characters that are “similar” in some sense but not visually identical. However, I’m not going to cover that here.\n",
    "Grapheme Clusters\n",
    "\n",
    "As we’ve seen, Unicode contains various cases where a thing that a user thinks of as a single “character” might actually be made up of multiple code points under the hood. Unicode formalizes this using the notion of a grapheme cluster: a string of one or more code points that constitute a single “user-perceived character”.\n",
    "\n",
    "UAX #29 defines the rules for what, precisely, qualifies as a grapheme cluster. It’s approximately “a base code point followed by any number of combining marks”, but the actual definition is a bit more complicated; it accounts for things like Korean jamo, and emoji ZWJ sequences.\n",
    "\n",
    "The main thing grapheme clusters are used for is text editing: they’re often the most sensible unit for cursor placement and text selection boundaries. Using grapheme clusters for these purposes ensures that you can’t accidentally chop off some diacritics when you copy-and-paste text, that left/right arrow keys always move the cursor by one visible character, and so on.\n",
    "\n",
    "Another place where grapheme clusters are useful is in enforcing a string length limit—say, on a database field. While the true, underlying limit might be something like the byte length of the string in UTF-8, you wouldn’t want to enforce that by just truncating bytes. At a minimum, you’d want to “round down” to the nearest code point boundary; but even better, round down to the nearest grapheme cluster boundary. Otherwise, you might be corrupting the last character by cutting off a diacritic, or interrupting a jamo sequence or ZWJ sequence.\n",
    "And More…\n",
    "\n",
    "There’s much more that could be said about Unicode from a programmer’s perspective! I haven’t gotten into such fun topics as case mapping, collation, compatibility decompositions and confusables, Unicode-aware regexes, or bidirectional text. Nor have I said anything yet about implementation issues—how to efficiently store and look-up data about the sparsely-assigned code points, or how to optimize UTF-8 decoding, string comparison, or NFC normalization. Perhaps I’ll return to some of those things in future posts.\n",
    "\n",
    "Unicode is a fascinating and complex system. It has a many-to-one mapping between bytes and code points, and on top of that a many-to-one (or, under some circumstances, many-to-many) mapping between code points and “characters”. It has oddball special cases in every corner. But no one ever claimed that representing all written languages was going to be easy, and it’s clear that we’re never going back to the bad old days of a patchwork of incompatible encodings.\n",
    "\n",
    "Further reading:\n",
    "\n",
    "    The Unicode Standard\n",
    "    UTF-8 Everywhere Manifesto\n",
    "    Dark corners of Unicode by Eevee\n",
    "    ICU (International Components for Unicode)—C/C++/Java libraries implementing many Unicode algorithms and related things\n",
    "    Python 3 Unicode Howto\n",
    "    Google Noto Fonts—set of fonts intended to cover all assigned code points\n",
    "'''"
   ]
  },
  {
   "cell_type": "code",
   "execution_count": 4,
   "id": "8f5e2a43-981f-44b3-8503-80c05f275cf4",
   "metadata": {
    "tags": []
   },
   "outputs": [],
   "source": [
    "l = list(s.encode(\"utf-8\"))"
   ]
  },
  {
   "cell_type": "code",
   "execution_count": 5,
   "id": "6986ab04-7a81-4736-9891-d012dc939285",
   "metadata": {
    "tags": []
   },
   "outputs": [
    {
     "data": {
      "text/plain": [
       "24702"
      ]
     },
     "execution_count": 5,
     "metadata": {},
     "output_type": "execute_result"
    }
   ],
   "source": [
    "len(l)"
   ]
  },
  {
   "cell_type": "code",
   "execution_count": 6,
   "id": "fbee02dd-42f9-4d9e-89c1-27493e53fa8f",
   "metadata": {
    "tags": []
   },
   "outputs": [],
   "source": [
    "def get_stats(l):\n",
    "    return Counter(zip(l, l[1:]))"
   ]
  },
  {
   "cell_type": "code",
   "execution_count": 7,
   "id": "b64976c0-6559-472b-a2dc-964913552d63",
   "metadata": {
    "tags": []
   },
   "outputs": [],
   "source": [
    "d = get_stats(l)"
   ]
  },
  {
   "cell_type": "markdown",
   "id": "5f3f15a0-fe56-4561-83cf-f199d17feab0",
   "metadata": {
    "tags": []
   },
   "source": [
    "# Show the ten most common pairs of bytes"
   ]
  },
  {
   "cell_type": "code",
   "execution_count": 8,
   "id": "cdc4ae02-6731-41c5-91d6-15208ab32d48",
   "metadata": {
    "tags": []
   },
   "outputs": [
    {
     "data": {
      "text/plain": [
       "[('e ', b'e ', (101, 32), 638),\n",
       " ('in', b'in', (105, 110), 445),\n",
       " ('s ', b's ', (115, 32), 411),\n",
       " (' t', b' t', (32, 116), 404),\n",
       " (' a', b' a', (32, 97), 377),\n",
       " ('th', b'th', (116, 104), 337),\n",
       " ('er', b'er', (101, 114), 293),\n",
       " ('co', b'co', (99, 111), 289),\n",
       " ('t ', b't ', (116, 32), 285),\n",
       " ('he', b'he', (104, 101), 279)]"
      ]
     },
     "execution_count": 8,
     "metadata": {},
     "output_type": "execute_result"
    }
   ],
   "source": [
    "[(''.join(map(chr, k)), bytes(k), k, v) for k, v in d.most_common(10)]"
   ]
  },
  {
   "cell_type": "code",
   "execution_count": 9,
   "id": "29b6069f-c0d7-49f2-aea7-fcd539d4050f",
   "metadata": {
    "tags": []
   },
   "outputs": [],
   "source": [
    "bl = [(c, c.encode('utf-8')) for c in list(s)]"
   ]
  },
  {
   "cell_type": "code",
   "execution_count": 10,
   "id": "a9938abd-3158-4bb5-be16-90d2bd9ba6ce",
   "metadata": {
    "tags": []
   },
   "outputs": [],
   "source": [
    "e = s.encode('utf-8')\n",
    "c = Counter(zip(e, e[1:]))"
   ]
  },
  {
   "cell_type": "code",
   "execution_count": 31,
   "id": "624d805e-73ab-4bc8-b1ed-539816851445",
   "metadata": {
    "tags": []
   },
   "outputs": [],
   "source": [
    "def merge(l, pair, token):\n",
    "    res = []\n",
    "    skip = False\n",
    "    for (a,b) in zip(l, l[1:]):\n",
    "        if skip:\n",
    "            skip = False\n",
    "            continue\n",
    "        if (a, b) == pair:\n",
    "            res.append(token)\n",
    "            skip = True\n",
    "        else:\n",
    "            res.append(a)\n",
    "    if not skip:\n",
    "        res.append(b)\n",
    "    return res\n",
    "    "
   ]
  },
  {
   "cell_type": "markdown",
   "id": "b9812a2c-e697-4633-962d-6b9df6e5e878",
   "metadata": {},
   "source": [
    "# Byte-pair encoding algorithm"
   ]
  },
  {
   "cell_type": "code",
   "execution_count": 84,
   "id": "d9da0bea-86c1-419b-bfa7-9acb2fb5c2ee",
   "metadata": {
    "tags": []
   },
   "outputs": [
    {
     "name": "stdout",
     "output_type": "stream",
     "text": [
      "Merging (101, 32)  to 256, 'e '\n",
      "Merging (105, 110) to 257, 'in'\n",
      "Merging (115, 32)  to 258, 's '\n",
      "Merging (116, 104) to 259, 'th'\n",
      "Merging (101, 114) to 260, 'er'\n",
      "Merging (99, 111)  to 261, 'co'\n",
      "Merging (116, 32)  to 262, 't '\n",
      "Merging (226, 128) to 263, '\\xe2\\x80'\n",
      "Merging (44, 32)   to 264, ', '\n",
      "Merging (97, 110)  to 265, 'an'\n",
      "Merging (111, 114) to 266, 'or'\n",
      "Merging (100, 32)  to 267, 'd '\n",
      "Merging (97, 114)  to 268, 'ar'\n",
      "Merging (101, 110) to 269, 'en'\n",
      "Merging (257, 103) to 270, 'ing'\n",
      "Merging (261, 100) to 271, 'cod'\n",
      "Merging (121, 32)  to 272, 'y '\n",
      "Merging (97, 108)  to 273, 'al'\n",
      "Merging (259, 256) to 274, 'the '\n",
      "Merging (111, 110) to 275, 'on'\n"
     ]
    }
   ],
   "source": [
    "l = list(s.encode(\"utf-8\"))\n",
    "\n",
    "n = 256\n",
    "t2b = {i:bytes([i]) for i in range(n)}\n",
    "\n",
    "n_merges = 20\n",
    "\n",
    "x = []\n",
    "y = []\n",
    "\n",
    "for i in range(n_merges):\n",
    "    m = len(l)\n",
    "    d = get_stats(l)\n",
    "    top_pair, value = d.most_common(1)[0]\n",
    "    next_token = n\n",
    "    info = (t2b[top_pair[0]].decode('utf-8', errors='backslashreplace') + \n",
    "            t2b[top_pair[1]].decode('utf-8', errors='backslashreplace'))\n",
    "    print(f\"Merging {str(top_pair):10s} to {next_token}, '{info}'\")\n",
    "    l2 = merge(l, top_pair, next_token)\n",
    "    l = l2[:]\n",
    "    t2b[n] = t2b[top_pair[0]] + t2b[top_pair[1]]\n",
    "    n += 1\n",
    "    x.append(n)\n",
    "    y.append(m)"
   ]
  },
  {
   "cell_type": "code",
   "execution_count": 13,
   "id": "3f048602-2fc2-4aa5-9e56-1e9eff9f1e28",
   "metadata": {
    "tags": []
   },
   "outputs": [],
   "source": [
    "from matplotlib import pyplot as plt\n",
    "from matplotlib.ticker import MaxNLocator"
   ]
  },
  {
   "cell_type": "markdown",
   "id": "51382c9e-e8a5-4d68-a420-8ff7645f68e2",
   "metadata": {
    "tags": []
   },
   "source": [
    "# String length and Compression ratio as the number of tokens increases"
   ]
  },
  {
   "cell_type": "code",
   "execution_count": 86,
   "id": "7f7ddf18-fa67-4ee5-8d8b-631ebe7dabbd",
   "metadata": {},
   "outputs": [
    {
     "data": {
      "text/plain": [
       "Text(0, 0.5, 'Compression Ratio')"
      ]
     },
     "execution_count": 86,
     "metadata": {},
     "output_type": "execute_result"
    },
    {
     "data": {
      "image/png": "[encoded data removed]",
      "text/plain": [
       "<Figure size 640x480 with 2 Axes>"
      ]
     },
     "metadata": {},
     "output_type": "display_data"
    }
   ],
   "source": [
    "plt.plot(x, y)\n",
    "ax1 = plt.gca()\n",
    "ax1.xaxis.set_major_locator(MaxNLocator(integer=True))\n",
    "ax1.set_xlabel('Vocabulary size', color='b')\n",
    "ax1.set_ylabel('Length', color='b')\n",
    "ax1.set_title('String length vs vocabulary size')\n",
    "\n",
    "ax2 = ax1.twinx()\n",
    "max_y = max(y)\n",
    "ratios = [max_y / u for u in y]\n",
    "ax2.plot(x, y)\n",
    "ax2.set_yticks(y)\n",
    "ax2.set_yticklabels([f'{max_y / tick:.2f}' for tick in y])\n",
    "ax2.set_ylabel('Compression Ratio', color='b')"
   ]
  },
  {
   "cell_type": "markdown",
   "id": "b13a8430-314c-47fe-b004-16a1fd889ee9",
   "metadata": {},
   "source": [
    "# Decoding\n",
    "Given a list of tokens, return the corresponding string"
   ]
  },
  {
   "cell_type": "code",
   "execution_count": 78,
   "id": "70a71fbc-8923-4f08-9d70-22ba26433575",
   "metadata": {
    "tags": []
   },
   "outputs": [],
   "source": [
    "def decode(tokens):\n",
    "    for k,v in t2b.items():\n",
    "        print(k, v)"
   ]
  },
  {
   "cell_type": "code",
   "execution_count": 81,
   "id": "3a12849a-f13f-4cc6-81bf-d69ccb85f817",
   "metadata": {
    "tags": []
   },
   "outputs": [
    {
     "name": "stdout",
     "output_type": "stream",
     "text": [
      "0 b'\\x00'\n",
      "1 b'\\x01'\n",
      "2 b'\\x02'\n",
      "3 b'\\x03'\n",
      "4 b'\\x04'\n",
      "5 b'\\x05'\n",
      "6 b'\\x06'\n",
      "7 b'\\x07'\n",
      "8 b'\\x08'\n",
      "9 b'\\t'\n",
      "10 b'\\n'\n",
      "11 b'\\x0b'\n",
      "12 b'\\x0c'\n",
      "13 b'\\r'\n",
      "14 b'\\x0e'\n",
      "15 b'\\x0f'\n",
      "16 b'\\x10'\n",
      "17 b'\\x11'\n",
      "18 b'\\x12'\n",
      "19 b'\\x13'\n",
      "20 b'\\x14'\n",
      "21 b'\\x15'\n",
      "22 b'\\x16'\n",
      "23 b'\\x17'\n",
      "24 b'\\x18'\n",
      "25 b'\\x19'\n",
      "26 b'\\x1a'\n",
      "27 b'\\x1b'\n",
      "28 b'\\x1c'\n",
      "29 b'\\x1d'\n",
      "30 b'\\x1e'\n",
      "31 b'\\x1f'\n",
      "32 b' '\n",
      "33 b'!'\n",
      "34 b'\"'\n",
      "35 b'#'\n",
      "36 b'$'\n",
      "37 b'%'\n",
      "38 b'&'\n",
      "39 b\"'\"\n",
      "40 b'('\n",
      "41 b')'\n",
      "42 b'*'\n",
      "43 b'+'\n",
      "44 b','\n",
      "45 b'-'\n",
      "46 b'.'\n",
      "47 b'/'\n",
      "48 b'0'\n",
      "49 b'1'\n",
      "50 b'2'\n",
      "51 b'3'\n",
      "52 b'4'\n",
      "53 b'5'\n",
      "54 b'6'\n",
      "55 b'7'\n",
      "56 b'8'\n",
      "57 b'9'\n",
      "58 b':'\n",
      "59 b';'\n",
      "60 b'<'\n",
      "61 b'='\n",
      "62 b'>'\n",
      "63 b'?'\n",
      "64 b'@'\n",
      "65 b'A'\n",
      "66 b'B'\n",
      "67 b'C'\n",
      "68 b'D'\n",
      "69 b'E'\n",
      "70 b'F'\n",
      "71 b'G'\n",
      "72 b'H'\n",
      "73 b'I'\n",
      "74 b'J'\n",
      "75 b'K'\n",
      "76 b'L'\n",
      "77 b'M'\n",
      "78 b'N'\n",
      "79 b'O'\n",
      "80 b'P'\n",
      "81 b'Q'\n",
      "82 b'R'\n",
      "83 b'S'\n",
      "84 b'T'\n",
      "85 b'U'\n",
      "86 b'V'\n",
      "87 b'W'\n",
      "88 b'X'\n",
      "89 b'Y'\n",
      "90 b'Z'\n",
      "91 b'['\n",
      "92 b'\\\\'\n",
      "93 b']'\n",
      "94 b'^'\n",
      "95 b'_'\n",
      "96 b'`'\n",
      "97 b'a'\n",
      "98 b'b'\n",
      "99 b'c'\n",
      "100 b'd'\n",
      "101 b'e'\n",
      "102 b'f'\n",
      "103 b'g'\n",
      "104 b'h'\n",
      "105 b'i'\n",
      "106 b'j'\n",
      "107 b'k'\n",
      "108 b'l'\n",
      "109 b'm'\n",
      "110 b'n'\n",
      "111 b'o'\n",
      "112 b'p'\n",
      "113 b'q'\n",
      "114 b'r'\n",
      "115 b's'\n",
      "116 b't'\n",
      "117 b'u'\n",
      "118 b'v'\n",
      "119 b'w'\n",
      "120 b'x'\n",
      "121 b'y'\n",
      "122 b'z'\n",
      "123 b'{'\n",
      "124 b'|'\n",
      "125 b'}'\n",
      "126 b'~'\n",
      "127 b'\\x7f'\n",
      "128 b'\\x80'\n",
      "129 b'\\x81'\n",
      "130 b'\\x82'\n",
      "131 b'\\x83'\n",
      "132 b'\\x84'\n",
      "133 b'\\x85'\n",
      "134 b'\\x86'\n",
      "135 b'\\x87'\n",
      "136 b'\\x88'\n",
      "137 b'\\x89'\n",
      "138 b'\\x8a'\n",
      "139 b'\\x8b'\n",
      "140 b'\\x8c'\n",
      "141 b'\\x8d'\n",
      "142 b'\\x8e'\n",
      "143 b'\\x8f'\n",
      "144 b'\\x90'\n",
      "145 b'\\x91'\n",
      "146 b'\\x92'\n",
      "147 b'\\x93'\n",
      "148 b'\\x94'\n",
      "149 b'\\x95'\n",
      "150 b'\\x96'\n",
      "151 b'\\x97'\n",
      "152 b'\\x98'\n",
      "153 b'\\x99'\n",
      "154 b'\\x9a'\n",
      "155 b'\\x9b'\n",
      "156 b'\\x9c'\n",
      "157 b'\\x9d'\n",
      "158 b'\\x9e'\n",
      "159 b'\\x9f'\n",
      "160 b'\\xa0'\n",
      "161 b'\\xa1'\n",
      "162 b'\\xa2'\n",
      "163 b'\\xa3'\n",
      "164 b'\\xa4'\n",
      "165 b'\\xa5'\n",
      "166 b'\\xa6'\n",
      "167 b'\\xa7'\n",
      "168 b'\\xa8'\n",
      "169 b'\\xa9'\n",
      "170 b'\\xaa'\n",
      "171 b'\\xab'\n",
      "172 b'\\xac'\n",
      "173 b'\\xad'\n",
      "174 b'\\xae'\n",
      "175 b'\\xaf'\n",
      "176 b'\\xb0'\n",
      "177 b'\\xb1'\n",
      "178 b'\\xb2'\n",
      "179 b'\\xb3'\n",
      "180 b'\\xb4'\n",
      "181 b'\\xb5'\n",
      "182 b'\\xb6'\n",
      "183 b'\\xb7'\n",
      "184 b'\\xb8'\n",
      "185 b'\\xb9'\n",
      "186 b'\\xba'\n",
      "187 b'\\xbb'\n",
      "188 b'\\xbc'\n",
      "189 b'\\xbd'\n",
      "190 b'\\xbe'\n",
      "191 b'\\xbf'\n",
      "192 b'\\xc0'\n",
      "193 b'\\xc1'\n",
      "194 b'\\xc2'\n",
      "195 b'\\xc3'\n",
      "196 b'\\xc4'\n",
      "197 b'\\xc5'\n",
      "198 b'\\xc6'\n",
      "199 b'\\xc7'\n",
      "200 b'\\xc8'\n",
      "201 b'\\xc9'\n",
      "202 b'\\xca'\n",
      "203 b'\\xcb'\n",
      "204 b'\\xcc'\n",
      "205 b'\\xcd'\n",
      "206 b'\\xce'\n",
      "207 b'\\xcf'\n",
      "208 b'\\xd0'\n",
      "209 b'\\xd1'\n",
      "210 b'\\xd2'\n",
      "211 b'\\xd3'\n",
      "212 b'\\xd4'\n",
      "213 b'\\xd5'\n",
      "214 b'\\xd6'\n",
      "215 b'\\xd7'\n",
      "216 b'\\xd8'\n",
      "217 b'\\xd9'\n",
      "218 b'\\xda'\n",
      "219 b'\\xdb'\n",
      "220 b'\\xdc'\n",
      "221 b'\\xdd'\n",
      "222 b'\\xde'\n",
      "223 b'\\xdf'\n",
      "224 b'\\xe0'\n",
      "225 b'\\xe1'\n",
      "226 b'\\xe2'\n",
      "227 b'\\xe3'\n",
      "228 b'\\xe4'\n",
      "229 b'\\xe5'\n",
      "230 b'\\xe6'\n",
      "231 b'\\xe7'\n",
      "232 b'\\xe8'\n",
      "233 b'\\xe9'\n",
      "234 b'\\xea'\n",
      "235 b'\\xeb'\n",
      "236 b'\\xec'\n",
      "237 b'\\xed'\n",
      "238 b'\\xee'\n",
      "239 b'\\xef'\n",
      "240 b'\\xf0'\n",
      "241 b'\\xf1'\n",
      "242 b'\\xf2'\n",
      "243 b'\\xf3'\n",
      "244 b'\\xf4'\n",
      "245 b'\\xf5'\n",
      "246 b'\\xf6'\n",
      "247 b'\\xf7'\n",
      "248 b'\\xf8'\n",
      "249 b'\\xf9'\n",
      "250 b'\\xfa'\n",
      "251 b'\\xfb'\n",
      "252 b'\\xfc'\n",
      "253 b'\\xfd'\n",
      "254 b'\\xfe'\n",
      "255 b'\\xff'\n",
      "256 b'e '\n",
      "257 b'in'\n",
      "258 b's '\n",
      "259 b'th'\n",
      "260 b'er'\n",
      "261 b'co'\n",
      "262 b't '\n",
      "263 b'\\xe2\\x80'\n",
      "264 b', '\n",
      "265 b'an'\n",
      "266 b'or'\n",
      "267 b'd '\n",
      "268 b'ar'\n",
      "269 b'en'\n",
      "270 b'ing'\n",
      "271 b'cod'\n",
      "272 b'y '\n",
      "273 b'al'\n",
      "274 b'the '\n",
      "275 b'on'\n"
     ]
    }
   ],
   "source": [
    "decode('')"
   ]
  }
 ],
 "metadata": {
  "kernelspec": {
   "display_name": "Python 3 (ipykernel)",
   "language": "python",
   "name": "python3"
  },
  "language_info": {
   "codemirror_mode": {
    "name": "ipython",
    "version": 3
   },
   "file_extension": ".py",
   "mimetype": "text/x-python",
   "name": "python",
   "nbconvert_exporter": "python",
   "pygments_lexer": "ipython3",
   "version": "3.11.4"
  }
 },
 "nbformat": 4,
 "nbformat_minor": 5
}
